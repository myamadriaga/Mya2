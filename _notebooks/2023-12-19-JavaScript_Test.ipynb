{
 "cells": [
  {
   "cell_type": "code",
   "execution_count": 2,
   "metadata": {},
   "outputs": [
    {
     "data": {
      "application/javascript": "console.log(\"Object: assigning key-value objects\")\nvar obj = {\n    name: \"Mya\",\n    age: 15\n};\n\n// The following is stored in the object called \"obj\"\n// {\n//     name: \"Mya\",\n//     age: 15\n// }\n//\n// The key \"name\" is associated with the string value \"Mya\"\n// The key \"age\" is associated with the number value 15\n// Notice that keys are of the type \"string\"\n\n// print obj to the console\nconsole.log(obj);\n// -> { name: 'Mya', age: 15 }\n// Notice that single quotes ' and double quotes \" can be used interchangeably\n",
      "text/plain": [
       "<IPython.core.display.Javascript object>"
      ]
     },
     "metadata": {},
     "output_type": "display_data"
    }
   ],
   "source": [
    "%%js\n",
    "console.log(\"Object: assigning key-value objects\")\n",
    "var obj = {\n",
    "    name: \"Mya\",\n",
    "    age: 15\n",
    "};\n",
    "\n",
    "// The following is stored in the object called \"obj\"\n",
    "// {\n",
    "//     name: \"Mya\",\n",
    "//     age: 15\n",
    "// }\n",
    "//\n",
    "// The key \"name\" is associated with the string value \"Mya\"\n",
    "// The key \"age\" is associated with the number value 15\n",
    "// Notice that keys are of the type \"string\"\n",
    "\n",
    "// print obj to the console\n",
    "console.log(obj);\n",
    "// -> { name: 'Mya', age: 15 }\n",
    "// Notice that single quotes ' and double quotes \" can be used interchangeably"
   ]
  }
 ],
 "metadata": {
  "kernelspec": {
   "display_name": "Python 3",
   "language": "python",
   "name": "python3"
  },
  "language_info": {
   "codemirror_mode": {
    "name": "ipython",
    "version": 3
   },
   "file_extension": ".py",
   "mimetype": "text/x-python",
   "name": "python",
   "nbconvert_exporter": "python",
   "pygments_lexer": "ipython3",
   "version": "3.10.12"
  }
 },
 "nbformat": 4,
 "nbformat_minor": 2
}
